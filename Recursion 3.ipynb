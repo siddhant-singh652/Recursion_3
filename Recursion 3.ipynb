{
 "cells": [
  {
   "cell_type": "markdown",
   "id": "9c5a668e",
   "metadata": {},
   "source": [
    "## Return all subsequences of the string"
   ]
  },
  {
   "cell_type": "code",
   "execution_count": 21,
   "id": "9b90a4d4",
   "metadata": {},
   "outputs": [
    {
     "name": "stdout",
     "output_type": "stream",
     "text": [
      "abc\n",
      "\n",
      "c\n",
      "b\n",
      "bc\n",
      "a\n",
      "ac\n",
      "ab\n",
      "abc\n"
     ]
    }
   ],
   "source": [
    "def subsequences(string):\n",
    "    #Implement Your Code Here\n",
    "    if len(string) == 0:\n",
    "        return ['']\n",
    "    ans_not_including = subsequences(string[1:])\n",
    "    ans_including = []\n",
    "    for i in ans_not_including:\n",
    "        st_including = string[0] + i\n",
    "        ans_including.append(st_including)\n",
    "    ans_not_including.extend(ans_including)\n",
    "    return ans_not_including\n",
    "\n",
    "\n",
    "string = input()\n",
    "ans = subsequences(string)\n",
    "for ele in ans:\n",
    "    print(ele)"
   ]
  },
  {
   "cell_type": "markdown",
   "id": "1216b433",
   "metadata": {},
   "source": [
    "## Return all possible strings made using certain keys of the keypad"
   ]
  },
  {
   "cell_type": "code",
   "execution_count": 23,
   "id": "ce83a529",
   "metadata": {},
   "outputs": [
    {
     "name": "stdout",
     "output_type": "stream",
     "text": [
      "232\n",
      "ada\n",
      "bda\n",
      "cda\n",
      "aea\n",
      "bea\n",
      "cea\n",
      "afa\n",
      "bfa\n",
      "cfa\n",
      "adb\n",
      "bdb\n",
      "cdb\n",
      "aeb\n",
      "beb\n",
      "ceb\n",
      "afb\n",
      "bfb\n",
      "cfb\n",
      "adc\n",
      "bdc\n",
      "cdc\n",
      "aec\n",
      "bec\n",
      "cec\n",
      "afc\n",
      "bfc\n",
      "cfc\n"
     ]
    }
   ],
   "source": [
    "def keypad(n,keys):\n",
    "    #Implement Your Code Here\n",
    "    if n == 0:\n",
    "        return ['']\n",
    "    small_output = keypad(n//10,keys)\n",
    "    last_digit = n%10\n",
    "    output = []\n",
    "    for i in keys[last_digit]:\n",
    "        for j in small_output:\n",
    "            output.append(j+i)\n",
    "    return output\n",
    "    \n",
    "\n",
    "n = int(input())\n",
    "keys = {2: 'abc', 3: 'def', 4: 'ghi', 5: 'jkl',\n",
    "        6: 'mno', 7: 'pqrs', 8: 'tuv', 9: 'wxyz'}\n",
    "ans = keypad(n,keys)\n",
    "for s in ans:\n",
    "    print(s)"
   ]
  },
  {
   "cell_type": "markdown",
   "id": "10081ee7",
   "metadata": {},
   "source": [
    "## Printing the factorial instead of returning"
   ]
  },
  {
   "cell_type": "code",
   "execution_count": 25,
   "id": "59138bb0",
   "metadata": {},
   "outputs": [
    {
     "data": {
      "text/plain": [
       "120"
      ]
     },
     "execution_count": 25,
     "metadata": {},
     "output_type": "execute_result"
    }
   ],
   "source": [
    "def fact(n):\n",
    "    if n == 0:\n",
    "        return 1\n",
    "    return n * fact(n-1)\n",
    "fact(5)"
   ]
  },
  {
   "cell_type": "code",
   "execution_count": 29,
   "id": "27897ad5",
   "metadata": {},
   "outputs": [],
   "source": [
    "def printFact(n,ans):\n",
    "    if n == 0:\n",
    "        print(ans)\n",
    "        return\n",
    "    ans = ans * n\n",
    "    printFact(n-1,ans)"
   ]
  },
  {
   "cell_type": "code",
   "execution_count": 30,
   "id": "872a4e2f",
   "metadata": {},
   "outputs": [
    {
     "name": "stdout",
     "output_type": "stream",
     "text": [
      "120\n"
     ]
    }
   ],
   "source": [
    "printFact(5,1)"
   ]
  },
  {
   "cell_type": "markdown",
   "id": "603fb451",
   "metadata": {},
   "source": [
    "## Print minimum of an array"
   ]
  },
  {
   "cell_type": "code",
   "execution_count": 31,
   "id": "2d924740",
   "metadata": {},
   "outputs": [
    {
     "name": "stdout",
     "output_type": "stream",
     "text": [
      "1\n"
     ]
    }
   ],
   "source": [
    "def printMin(arr,minimum=999999):\n",
    "    if len(arr) == 0:\n",
    "        print(minimum)\n",
    "        return\n",
    "    minimum = min(minimum,arr[0])\n",
    "    printMin(arr[1:],minimum)\n",
    "    \n",
    "printMin([5,3,6,11,65,3,1,10])"
   ]
  },
  {
   "cell_type": "markdown",
   "id": "afe78cef",
   "metadata": {},
   "source": [
    "## Print all the subsequences of a string"
   ]
  },
  {
   "cell_type": "code",
   "execution_count": 35,
   "id": "2c6b4d56",
   "metadata": {},
   "outputs": [
    {
     "name": "stdout",
     "output_type": "stream",
     "text": [
      "abc\n",
      "\n",
      "c\n",
      "b\n",
      "bc\n",
      "a\n",
      "ac\n",
      "ab\n",
      "abc\n"
     ]
    }
   ],
   "source": [
    "def printSubsequences(input_st, output_st = ''):\n",
    "    if len(input_st) == 0:\n",
    "        print(output_st)\n",
    "        return\n",
    "    \n",
    "    #Don't include zeroth character\n",
    "    printSubsequences(input_st[1:],output_st)\n",
    "    #Include zeroth character\n",
    "    printSubsequences(input_st[1:],output_st + input_st[0])\n",
    "\n",
    "st = input()\n",
    "printSubsequences(st)"
   ]
  },
  {
   "cell_type": "markdown",
   "id": "eb9386d0",
   "metadata": {},
   "source": [
    "## Print Keypad Combinations"
   ]
  },
  {
   "cell_type": "code",
   "execution_count": 37,
   "id": "831ad1fa",
   "metadata": {},
   "outputs": [
    {
     "name": "stdout",
     "output_type": "stream",
     "text": [
      "232\n",
      "ada\n",
      "bda\n",
      "cda\n",
      "aea\n",
      "bea\n",
      "cea\n",
      "afa\n",
      "bfa\n",
      "cfa\n",
      "adb\n",
      "bdb\n",
      "cdb\n",
      "aeb\n",
      "beb\n",
      "ceb\n",
      "afb\n",
      "bfb\n",
      "cfb\n",
      "adc\n",
      "bdc\n",
      "cdc\n",
      "aec\n",
      "bec\n",
      "cec\n",
      "afc\n",
      "bfc\n",
      "cfc\n"
     ]
    }
   ],
   "source": [
    "def printKeypad(input_no, output, keys):\n",
    "    if input_no == 0:\n",
    "        print(output)\n",
    "        return\n",
    "\n",
    "    small_number = input_no // 10\n",
    "    last_digit = input_no % 10\n",
    "    \n",
    "    for i in keys[last_digit]:\n",
    "        printKeypad(small_number, i+output,keys)\n",
    "\n",
    "n = int(input())\n",
    "keys = {2: 'abc', 3: 'def', 4: 'ghi', 5: 'jkl',\n",
    "        6: 'mno', 7: 'pqrs', 8: 'tuv', 9: 'wxyz'}\n",
    "printKeypad(n,'',keys)"
   ]
  },
  {
   "cell_type": "markdown",
   "id": "fa4d34a8",
   "metadata": {},
   "source": [
    "## Return Elements that sum to k"
   ]
  },
  {
   "cell_type": "code",
   "execution_count": 45,
   "id": "0a5df544",
   "metadata": {},
   "outputs": [
    {
     "name": "stdout",
     "output_type": "stream",
     "text": [
      "1 2 3 4 5 6 7 8\n",
      "4\n",
      "[[1, 3], [4]]\n"
     ]
    }
   ],
   "source": [
    "import sys\n",
    "sys.setrecursionlimit(10 ** 8)\n",
    "\n",
    "\n",
    "def subsetsSumK(arr, k) :\n",
    "    #Your code goes here\n",
    "    if len(arr) == 0:\n",
    "        if k == 0:\n",
    "            return [[]]\n",
    "        else:\n",
    "            return []\n",
    "\n",
    "    ans1 = subsetsSumK(arr[1:],k-arr[0])\n",
    "    ans2 = subsetsSumK(arr[1:],k)\n",
    "    new_ans1 = []\n",
    "    for l in ans1:\n",
    "        new_list = [arr[0]] + l\n",
    "        new_ans1.append(new_list)\n",
    "    new_ans1.extend(ans2)\n",
    "    return new_ans1\n",
    "\n",
    "arr = [int(ele) for ele in input().split()]\n",
    "k = int(input())\n",
    "print(subsetsSumK(arr,k))"
   ]
  },
  {
   "cell_type": "markdown",
   "id": "7edaabc6",
   "metadata": {},
   "source": [
    "## Return all subsets of a list of integers"
   ]
  },
  {
   "cell_type": "code",
   "execution_count": 48,
   "id": "d65887ea",
   "metadata": {},
   "outputs": [
    {
     "name": "stdout",
     "output_type": "stream",
     "text": [
      "3\n",
      "1 2 3\n",
      "1 2 3 \n",
      "1 2 \n",
      "1 3 \n",
      "1 \n",
      "2 3 \n",
      "2 \n",
      "3 \n",
      "\n"
     ]
    }
   ],
   "source": [
    "import sys\n",
    "sys.setrecursionlimit(10 ** 8)\n",
    "\n",
    "def subsets(arr):\n",
    "    if len(arr) == 0:\n",
    "        return [[]]\n",
    "    sub_not_including = subsets(arr[1:])\n",
    "    output = []\n",
    "    for i in sub_not_including:\n",
    "        lst_including = [arr[0]] + i\n",
    "        output.append(lst_including)\n",
    "    \n",
    "    for i in sub_not_including:\n",
    "        output.append(i)\n",
    "    return output\n",
    "\n",
    "n = int(input())\n",
    "lst = [int(ele) for ele in input().split()]\n",
    "output = subsets(lst)\n",
    "for l in output:\n",
    "    for ele in l:\n",
    "        print(ele,end = ' ')\n",
    "    print()"
   ]
  },
  {
   "cell_type": "markdown",
   "id": "9f0ed79e",
   "metadata": {},
   "source": [
    "## Return all permutations of a string"
   ]
  },
  {
   "cell_type": "code",
   "execution_count": 49,
   "id": "1cc316be",
   "metadata": {},
   "outputs": [
    {
     "name": "stdout",
     "output_type": "stream",
     "text": [
      "abcd\n",
      "abcd\n",
      "abdc\n",
      "acbd\n",
      "acdb\n",
      "adbc\n",
      "adcb\n",
      "bacd\n",
      "badc\n",
      "bcad\n",
      "bcda\n",
      "bdac\n",
      "bdca\n",
      "cabd\n",
      "cadb\n",
      "cbad\n",
      "cbda\n",
      "cdab\n",
      "cdba\n",
      "dabc\n",
      "dacb\n",
      "dbac\n",
      "dbca\n",
      "dcab\n",
      "dcba\n"
     ]
    }
   ],
   "source": [
    "def permutations(string):\n",
    "    #Implement Your Code Here\n",
    "    if len(string) == 0:\n",
    "        return ['']\n",
    "\n",
    "    result = []\n",
    "    for i in range(len(string)):\n",
    "        before_i = string[:i]\n",
    "        after_i = string[i+1:]\n",
    "        st = before_i + after_i\n",
    "        output = permutations(st)\n",
    "        for out in output:\n",
    "            result.append(string[i]+out)\n",
    "    return result\n",
    "\n",
    "\n",
    "string = input()\n",
    "ans = permutations(string)\n",
    "for s in ans:\n",
    "    print(s)"
   ]
  },
  {
   "cell_type": "markdown",
   "id": "10582d5c",
   "metadata": {},
   "source": [
    "## Print all subsets of an array of integers"
   ]
  },
  {
   "cell_type": "code",
   "execution_count": 51,
   "id": "f5394ba7",
   "metadata": {},
   "outputs": [
    {
     "name": "stdout",
     "output_type": "stream",
     "text": [
      "3\n",
      "1 2 3\n",
      "\n",
      "3 \n",
      "2 \n",
      "2 3 \n",
      "1 \n",
      "1 3 \n",
      "1 2 \n",
      "1 2 3 \n"
     ]
    }
   ],
   "source": [
    "import sys\n",
    "sys.setrecursionlimit(10**8)\n",
    "def printSubsets(arr,ans):\n",
    "    if len(arr) == 0:\n",
    "        for ele in ans:\n",
    "            print(ele,end=' ')\n",
    "        print()\n",
    "        return\n",
    "    \n",
    "    # Excluding first number\n",
    "    printSubsets(arr[1:],ans)\n",
    "    # Including first number\n",
    "    printSubsets(arr[1:],ans+[arr[0]])\n",
    "\n",
    "n = int(input())\n",
    "arr = [int(ele) for ele in input().split()]\n",
    "printSubsets(arr,[])"
   ]
  },
  {
   "cell_type": "markdown",
   "id": "3d2e3638",
   "metadata": {},
   "source": [
    "## Print Elements that sum to k"
   ]
  },
  {
   "cell_type": "code",
   "execution_count": 52,
   "id": "155c19ac",
   "metadata": {},
   "outputs": [
    {
     "name": "stdout",
     "output_type": "stream",
     "text": [
      "3\n",
      "1 5 3\n",
      "4\n",
      "1 3 \n"
     ]
    }
   ],
   "source": [
    "import sys\n",
    "sys.setrecursionlimit(10**8)\n",
    "\n",
    "def printSubsetSumK(arr,ans,k):\n",
    "    if len(arr) == 0:\n",
    "        if k == 0:\n",
    "            for ele in ans:\n",
    "                print(ele, end = ' ')\n",
    "            print()\n",
    "        return\n",
    "\n",
    "    # Excluding first element\n",
    "    printSubsetSumK(arr[1:],ans,k)\n",
    "    # Including first element\n",
    "    new_ans = ans + [arr[0]]\n",
    "    printSubsetSumK(arr[1:],new_ans,k-arr[0])\n",
    "\n",
    "n = int(input())\n",
    "arr = [int(ele) for ele in input().split()]\n",
    "k = int(input())\n",
    "printSubsetSumK(arr,[],k)"
   ]
  },
  {
   "cell_type": "markdown",
   "id": "00aa6b4e",
   "metadata": {},
   "source": [
    "## Printing permutations of a string"
   ]
  },
  {
   "cell_type": "code",
   "execution_count": 55,
   "id": "8a049330",
   "metadata": {},
   "outputs": [
    {
     "name": "stdout",
     "output_type": "stream",
     "text": [
      "abcd\n",
      "abcd\n",
      "abdc\n",
      "acbd\n",
      "acdb\n",
      "adbc\n",
      "adcb\n",
      "bacd\n",
      "badc\n",
      "bcad\n",
      "bcda\n",
      "bdac\n",
      "bdca\n",
      "cabd\n",
      "cadb\n",
      "cbad\n",
      "cbda\n",
      "cdab\n",
      "cdba\n",
      "dabc\n",
      "dacb\n",
      "dbac\n",
      "dbca\n",
      "dcab\n",
      "dcba\n"
     ]
    }
   ],
   "source": [
    "def printPermutations(string,ans):\n",
    "    #Implement Your Code Here\n",
    "    if len(string) == 0:\n",
    "        print(ans)\n",
    "\n",
    "    for  i in range(len(string)):\n",
    "        char = string[i]\n",
    "        rem_string = string[:i]+string[i+1:]\n",
    "        printPermutations(rem_string,ans+char)\n",
    "\n",
    "string = input()\n",
    "printPermutations(string,'')"
   ]
  },
  {
   "cell_type": "code",
   "execution_count": null,
   "id": "6ab7866e",
   "metadata": {},
   "outputs": [],
   "source": []
  }
 ],
 "metadata": {
  "kernelspec": {
   "display_name": "Python 3 (ipykernel)",
   "language": "python",
   "name": "python3"
  },
  "language_info": {
   "codemirror_mode": {
    "name": "ipython",
    "version": 3
   },
   "file_extension": ".py",
   "mimetype": "text/x-python",
   "name": "python",
   "nbconvert_exporter": "python",
   "pygments_lexer": "ipython3",
   "version": "3.9.12"
  }
 },
 "nbformat": 4,
 "nbformat_minor": 5
}
